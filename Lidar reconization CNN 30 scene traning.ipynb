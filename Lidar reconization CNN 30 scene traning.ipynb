{
 "cells": [
  {
   "cell_type": "code",
   "execution_count": 1,
   "id": "2e4cfc6c-0afb-4475-aba8-e18a1eddd59d",
   "metadata": {},
   "outputs": [],
   "source": [
    "import numpy as np\n",
    "import pandas as pd\n",
    "import io\n",
    "import matplotlib as mpl\n",
    "import matplotlib.pyplot as plt\n",
    "import seaborn as sns\n",
    "\n",
    "import tensorflow as tf\n",
    "from tensorflow import keras\n",
    "\n",
    "from tensorflow import feature_column\n",
    "from tensorflow.keras import layers\n",
    "from sklearn.model_selection import train_test_split\n",
    "from sklearn.preprocessing import StandardScaler\n",
    "from keras.models import Sequential\n",
    "from keras.layers import Dense"
   ]
  },
  {
   "cell_type": "code",
   "execution_count": 2,
   "id": "c5e7e0c3-7865-4a5c-87e1-338290406db0",
   "metadata": {
    "tags": []
   },
   "outputs": [
    {
     "name": "stdout",
     "output_type": "stream",
     "text": [
      "Num GPU available: 1\n"
     ]
    },
    {
     "data": {
      "text/plain": [
       "True"
      ]
     },
     "execution_count": 2,
     "metadata": {},
     "output_type": "execute_result"
    }
   ],
   "source": [
    "# print(\"Num GPU available:\", len(tf.config.experimental.list_physical_devices('GPU')))\n",
    "# tf.test.is_built_with_cuda()"
   ]
  },
  {
   "cell_type": "code",
   "execution_count": 2,
   "id": "83a1f1e5-578b-415e-b7bc-1e1927997620",
   "metadata": {
    "tags": []
   },
   "outputs": [
    {
     "name": "stdout",
     "output_type": "stream",
     "text": [
      "   class\n",
      "0      5\n",
      "1     42\n",
      "2     13\n",
      "3     11\n",
      "4     13\n",
      "            count       mean        std  min  25%   50%   75%   max\n",
      "class  77969331.0  20.745103  15.961907  0.0  7.0  13.0  41.0  42.0\n"
     ]
    }
   ],
   "source": [
    "import os\n",
    "from os import listdir\n",
    "import pickle\n",
    "\n",
    "labels =[]\n",
    "labels = pd.DataFrame(labels)\n",
    "\n",
    "for i in range (0,30):\n",
    "    if i == 0:\n",
    "        filepath=r'F:\\Autonomous Driving\\Lidardataset_trainning\\001\\annotations\\semseg/'\n",
    "    if i == 1: \n",
    "        filepath=r'F:\\Autonomous Driving\\Lidardataset_trainning\\002\\annotations\\semseg/'\n",
    "    if i == 2:\n",
    "        filepath=r'F:\\Autonomous Driving\\Lidardataset_trainning\\003\\annotations\\semseg/'\n",
    "    if i == 3:\n",
    "        filepath=r'F:\\Autonomous Driving\\Lidardataset_trainning\\005\\annotations\\semseg/'\n",
    "    if i == 4:\n",
    "        filepath=r'F:\\Autonomous Driving\\Lidardataset_trainning\\011\\annotations\\semseg/'\n",
    "    if i == 5:\n",
    "        filepath=r'F:\\Autonomous Driving\\Lidardataset_trainning\\013\\annotations\\semseg/'\n",
    "    if i == 6:\n",
    "        filepath=r'F:\\Autonomous Driving\\Lidardataset_trainning\\015\\annotations\\semseg/'\n",
    "    if i == 7:\n",
    "        filepath=r'F:\\Autonomous Driving\\Lidardataset_trainning\\016\\annotations\\semseg/'\n",
    "    if i == 8:\n",
    "        filepath=r'F:\\Autonomous Driving\\Lidardataset_trainning\\017\\annotations\\semseg/'\n",
    "    if i == 9:\n",
    "        filepath=r'F:\\Autonomous Driving\\Lidardataset_trainning\\019\\annotations\\semseg/'\n",
    "    if i == 10:\n",
    "        filepath=r'F:\\Autonomous Driving\\Lidardataset_trainning\\021\\annotations\\semseg/'\n",
    "    if i == 11:\n",
    "        filepath=r'F:\\Autonomous Driving\\Lidardataset_trainning\\023\\annotations\\semseg/'\n",
    "    if i == 12:\n",
    "        filepath=r'F:\\Autonomous Driving\\Lidardataset_trainning\\024\\annotations\\semseg/'\n",
    "    if i == 13:\n",
    "        filepath=r'F:\\Autonomous Driving\\Lidardataset_trainning\\027\\annotations\\semseg/'\n",
    "    if i == 14:\n",
    "        filepath=r'F:\\Autonomous Driving\\Lidardataset_trainning\\028\\annotations\\semseg/'\n",
    "    if i == 15:\n",
    "        filepath=r'F:\\Autonomous Driving\\Lidardataset_trainning\\029\\annotations\\semseg/'\n",
    "    if i == 16:\n",
    "        filepath=r'F:\\Autonomous Driving\\Lidardataset_trainning\\030\\annotations\\semseg/'\n",
    "    if i == 17:\n",
    "        filepath=r'F:\\Autonomous Driving\\Lidardataset_trainning\\032\\annotations\\semseg/'\n",
    "    if i == 18:\n",
    "        filepath=r'F:\\Autonomous Driving\\Lidardataset_trainning\\033\\annotations\\semseg/'\n",
    "    if i == 19:\n",
    "        filepath=r'F:\\Autonomous Driving\\Lidardataset_trainning\\034\\annotations\\semseg/'\n",
    "    if i == 20:\n",
    "        filepath=r'F:\\Autonomous Driving\\Lidardataset_trainning\\035\\annotations\\semseg/'\n",
    "    if i == 21:\n",
    "        filepath=r'F:\\Autonomous Driving\\Lidardataset_trainning\\037\\annotations\\semseg/'\n",
    "    if i == 22:\n",
    "        filepath=r'F:\\Autonomous Driving\\Lidardataset_trainning\\038\\annotations\\semseg/'\n",
    "    if i == 23:\n",
    "        filepath=r'F:\\Autonomous Driving\\Lidardataset_trainning\\039\\annotations\\semseg/'\n",
    "    if i == 24:\n",
    "        filepath=r'F:\\Autonomous Driving\\Lidardataset_trainning\\040\\annotations\\semseg/'\n",
    "    if i == 25:\n",
    "        filepath=r'F:\\Autonomous Driving\\Lidardataset_trainning\\041\\annotations\\semseg/'\n",
    "    if i == 26:\n",
    "        filepath=r'F:\\Autonomous Driving\\Lidardataset_trainning\\042\\annotations\\semseg/'\n",
    "    if i == 27:\n",
    "        filepath=r'F:\\Autonomous Driving\\Lidardataset_trainning\\043\\annotations\\semseg/'\n",
    "    if i == 28:\n",
    "        filepath=r'F:\\Autonomous Driving\\Lidardataset_trainning\\044\\annotations\\semseg/'\n",
    "    if i == 29:\n",
    "        filepath=r'F:\\Autonomous Driving\\Lidardataset_trainning\\046\\annotations\\semseg/'\n",
    "    \n",
    "    filename_list=listdir(filepath)\n",
    "\n",
    "    for filename in filename_list:\n",
    "        if filename[-3:]=='pkl':#read file with end character with'pkl'\n",
    "            label_path = os.path.join(filepath, filename[:])\n",
    "            with open(label_path, 'rb') as f:\n",
    "                label = pickle.load(f)\n",
    "                label = pd.DataFrame(label)\n",
    "                labels = pd.concat([labels, label], ignore_index=True)\n",
    "\n",
    "print(labels.head())\n",
    "print(labels.describe().transpose())"
   ]
  },
  {
   "cell_type": "code",
   "execution_count": 4,
   "id": "7526e35a-6031-4bb1-84e1-87eeeb492e8c",
   "metadata": {
    "jupyter": {
     "source_hidden": true
    },
    "tags": []
   },
   "outputs": [],
   "source": [
    "# import os\n",
    "# from os import listdir\n",
    "# import pickle\n",
    "\n",
    "# labels =[]\n",
    "# labels = pd.DataFrame(labels)\n",
    "\n",
    "\n",
    "\n",
    "# filepath=r'F:\\Autonomous Driving\\Lidardataset\\001\\annotations\\semseg/'\n",
    "# filename_list=listdir(filepath)\n",
    "\n",
    "# for filename in filename_list:\n",
    "#     if filename[-3:]=='pkl':#read file with end character with'pkl'\n",
    "#         label_path = os.path.join(filepath, filename[:])\n",
    "#         with open(label_path, 'rb') as f:\n",
    "#             label = pickle.load(f)\n",
    "#             label = pd.DataFrame(label)\n",
    "#             labels = pd.concat([labels, label], ignore_index=True)\n",
    "            \n",
    "# # print(labels.head())\n",
    "# # print(labels.describe().transpose())"
   ]
  },
  {
   "cell_type": "code",
   "execution_count": 3,
   "id": "02e22b85-a277-4c1e-afb0-d9c8b2de1189",
   "metadata": {},
   "outputs": [
    {
     "name": "stdout",
     "output_type": "stream",
     "text": [
      "           x          y         z     i             t  d\n",
      "0 -58.457199 -61.269268  2.881014  39.0  1.557540e+09  0\n",
      "1 -71.572182 -74.840317  1.279183   9.0  1.557540e+09  0\n",
      "2 -42.442833 -44.357426  0.426503  56.0  1.557540e+09  0\n",
      "3 -31.749357 -33.156342 -0.025245   3.0  1.557540e+09  0\n",
      "4  -9.920758 -10.442794  1.010120   0.0  1.557540e+09  0\n",
      "        count          mean         std           min           25%  \\\n",
      "x  77969331.0 -3.209663e+00   24.750984 -3.147803e+02 -1.352227e+01   \n",
      "y  77969331.0 -7.589796e-01   26.837438 -3.171204e+02 -1.468265e+01   \n",
      "z  77969331.0  1.312749e+00    2.556391 -6.965281e+01 -1.987672e-01   \n",
      "i  77969331.0  1.993691e+01   24.089227  0.000000e+00  6.000000e+00   \n",
      "t  77969331.0  1.557541e+09  710.027402  1.557540e+09  1.557541e+09   \n",
      "d  77969331.0  3.800021e-01    0.485387  0.000000e+00  0.000000e+00   \n",
      "\n",
      "            50%           75%           max  \n",
      "x -1.520956e+00  1.064626e+01  3.072694e+02  \n",
      "y -8.039179e-01  1.243755e+01  3.131192e+02  \n",
      "z  8.216249e-01  2.097045e+00  7.758717e+01  \n",
      "i  1.700000e+01  2.800000e+01  2.550000e+02  \n",
      "t  1.557541e+09  1.557542e+09  1.557542e+09  \n",
      "d  0.000000e+00  1.000000e+00  1.000000e+00  \n"
     ]
    }
   ],
   "source": [
    "Lidardataset =[]\n",
    "Lidardataset = pd.DataFrame(Lidardataset)\n",
    "\n",
    "for i in range (0,30):\n",
    "    if i == 0:\n",
    "        filepath=r'F:\\Autonomous Driving\\Lidardataset_trainning\\001\\lidar'\n",
    "    if i == 1: \n",
    "        filepath=r'F:\\Autonomous Driving\\Lidardataset_trainning\\002\\lidar'\n",
    "    if i == 2:\n",
    "        filepath=r'F:\\Autonomous Driving\\Lidardataset_trainning\\003\\lidar'\n",
    "    if i == 3:\n",
    "        filepath=r'F:\\Autonomous Driving\\Lidardataset_trainning\\005\\lidar'\n",
    "    if i == 4:\n",
    "        filepath=r'F:\\Autonomous Driving\\Lidardataset_trainning\\011\\lidar'\n",
    "    if i == 5:\n",
    "        filepath=r'F:\\Autonomous Driving\\Lidardataset_trainning\\013\\lidar'\n",
    "    if i == 6:\n",
    "        filepath=r'F:\\Autonomous Driving\\Lidardataset_trainning\\015\\lidar'\n",
    "    if i == 7:\n",
    "        filepath=r'F:\\Autonomous Driving\\Lidardataset_trainning\\016\\lidar'\n",
    "    if i == 8:\n",
    "        filepath=r'F:\\Autonomous Driving\\Lidardataset_trainning\\017\\lidar'\n",
    "    if i == 9:\n",
    "        filepath=r'F:\\Autonomous Driving\\Lidardataset_trainning\\019\\lidar'\n",
    "    if i == 10:\n",
    "        filepath=r'F:\\Autonomous Driving\\Lidardataset_trainning\\021\\lidar'\n",
    "    if i == 11:\n",
    "        filepath=r'F:\\Autonomous Driving\\Lidardataset_trainning\\023\\lidar'\n",
    "    if i == 12:\n",
    "        filepath=r'F:\\Autonomous Driving\\Lidardataset_trainning\\024\\lidar'\n",
    "    if i == 13:\n",
    "        filepath=r'F:\\Autonomous Driving\\Lidardataset_trainning\\027\\lidar'\n",
    "    if i == 14:\n",
    "        filepath=r'F:\\Autonomous Driving\\Lidardataset_trainning\\028\\lidar'\n",
    "    if i == 15:\n",
    "        filepath=r'F:\\Autonomous Driving\\Lidardataset_trainning\\029\\lidar'\n",
    "    if i == 16:\n",
    "        filepath=r'F:\\Autonomous Driving\\Lidardataset_trainning\\030\\lidar'\n",
    "    if i == 17:\n",
    "        filepath=r'F:\\Autonomous Driving\\Lidardataset_trainning\\032\\lidar'\n",
    "    if i == 18:\n",
    "        filepath=r'F:\\Autonomous Driving\\Lidardataset_trainning\\033\\lidar'\n",
    "    if i == 19:\n",
    "        filepath=r'F:\\Autonomous Driving\\Lidardataset_trainning\\034\\lidar'\n",
    "    if i == 20:\n",
    "        filepath=r'F:\\Autonomous Driving\\Lidardataset_trainning\\035\\lidar'\n",
    "    if i == 21:\n",
    "        filepath=r'F:\\Autonomous Driving\\Lidardataset_trainning\\037\\lidar'\n",
    "    if i == 22:\n",
    "        filepath=r'F:\\Autonomous Driving\\Lidardataset_trainning\\038\\lidar'\n",
    "    if i == 23:\n",
    "        filepath=r'F:\\Autonomous Driving\\Lidardataset_trainning\\039\\lidar'\n",
    "    if i == 24:\n",
    "        filepath=r'F:\\Autonomous Driving\\Lidardataset_trainning\\040\\lidar'\n",
    "    if i == 25:\n",
    "        filepath=r'F:\\Autonomous Driving\\Lidardataset_trainning\\041\\lidar'\n",
    "    if i == 26:\n",
    "        filepath=r'F:\\Autonomous Driving\\Lidardataset_trainning\\042\\lidar'\n",
    "    if i == 27:\n",
    "        filepath=r'F:\\Autonomous Driving\\Lidardataset_trainning\\043\\lidar'\n",
    "    if i == 28:\n",
    "        filepath=r'F:\\Autonomous Driving\\Lidardataset_trainning\\044\\lidar'\n",
    "    if i == 29:\n",
    "        filepath=r'F:\\Autonomous Driving\\Lidardataset_trainning\\046\\lidar'\n",
    "\n",
    "    for filename in filename_list:\n",
    "        if filename[-3:]=='pkl':#read file with end character with'pkl'\n",
    "            lidar_path = os.path.join(filepath, filename[:])\n",
    "            with open(lidar_path, 'rb') as f:\n",
    "                lidardata = pickle.load(f)\n",
    "                lidardata = pd.DataFrame(lidardata)\n",
    "                Lidardataset = pd.concat([Lidardataset, lidardata], ignore_index=True)\n",
    "            \n",
    "print(Lidardataset.head())\n",
    "print(Lidardataset.describe().transpose())"
   ]
  },
  {
   "cell_type": "code",
   "execution_count": null,
   "id": "01f01ca4-087f-4513-bdcb-0eb1e1661bb1",
   "metadata": {
    "jupyter": {
     "source_hidden": true
    },
    "tags": []
   },
   "outputs": [],
   "source": [
    "# filepath=r'F:\\Autonomous Driving\\Lidardataset\\001\\lidar'\n",
    "# filename_list=listdir(filepath)\n",
    "\n",
    "# Lidardataset =[]\n",
    "# Lidardataset = pd.DataFrame(Lidardataset)\n",
    "\n",
    "# for filename in filename_list:\n",
    "#     if filename[-3:]=='pkl':#read file with end character with'pkl'\n",
    "#         lidar_path = os.path.join(filepath, filename[:])\n",
    "#         with open(lidar_path, 'rb') as f:\n",
    "#             lidardata = pickle.load(f)\n",
    "#             lidardata = pd.DataFrame(lidardata)\n",
    "#             Lidardataset = pd.concat([Lidardataset, lidardata], ignore_index=True)\n",
    "            \n",
    "# # print(Lidardataset.head())\n",
    "# # print(Lidardataset.describe().transpose())"
   ]
  },
  {
   "cell_type": "code",
   "execution_count": 4,
   "id": "fa3fb913-d50d-4f13-99e0-b16e3c0a39cc",
   "metadata": {
    "tags": []
   },
   "outputs": [
    {
     "name": "stdout",
     "output_type": "stream",
     "text": [
      "           x          y         z     i             t  d  class\n",
      "0 -58.457199 -61.269268  2.881014  39.0  1.557540e+09  0      5\n",
      "1 -71.572182 -74.840317  1.279183   9.0  1.557540e+09  0     42\n",
      "2 -42.442833 -44.357426  0.426503  56.0  1.557540e+09  0     13\n",
      "3 -31.749357 -33.156342 -0.025245   3.0  1.557540e+09  0     11\n",
      "4  -9.920758 -10.442794  1.010120   0.0  1.557540e+09  0     13\n",
      "            count          mean         std           min           25%  \\\n",
      "x      77969331.0 -3.209663e+00   24.750984 -3.147803e+02 -1.352227e+01   \n",
      "y      77969331.0 -7.589796e-01   26.837438 -3.171204e+02 -1.468265e+01   \n",
      "z      77969331.0  1.312749e+00    2.556391 -6.965281e+01 -1.987672e-01   \n",
      "i      77969331.0  1.993691e+01   24.089227  0.000000e+00  6.000000e+00   \n",
      "t      77969331.0  1.557541e+09  710.027402  1.557540e+09  1.557541e+09   \n",
      "d      77969331.0  3.800021e-01    0.485387  0.000000e+00  0.000000e+00   \n",
      "class  77969331.0  2.074510e+01   15.961907  0.000000e+00  7.000000e+00   \n",
      "\n",
      "                50%           75%           max  \n",
      "x     -1.520956e+00  1.064626e+01  3.072694e+02  \n",
      "y     -8.039179e-01  1.243755e+01  3.131192e+02  \n",
      "z      8.216249e-01  2.097045e+00  7.758717e+01  \n",
      "i      1.700000e+01  2.800000e+01  2.550000e+02  \n",
      "t      1.557541e+09  1.557542e+09  1.557542e+09  \n",
      "d      0.000000e+00  1.000000e+00  1.000000e+00  \n",
      "class  1.300000e+01  4.100000e+01  4.200000e+01  \n"
     ]
    }
   ],
   "source": [
    "raw_df =[]\n",
    "raw_df = pd.DataFrame(raw_df)\n",
    "raw_df = Lidardataset\n",
    "raw_df[\"class\"] = labels[\"class\"]\n",
    "raw_df.head\n",
    "\n",
    "print(raw_df.head())\n",
    "print(raw_df.describe().transpose())"
   ]
  },
  {
   "cell_type": "code",
   "execution_count": 5,
   "id": "6df401c5-fef8-408f-80f9-7339929bd9da",
   "metadata": {
    "tags": []
   },
   "outputs": [
    {
     "data": {
      "text/plain": [
       "<bound method NDFrame.head of                   x          y         z     i  class\n",
       "0        -58.457199 -61.269268  2.881014  39.0      5\n",
       "1        -71.572182 -74.840317  1.279183   9.0     42\n",
       "2        -42.442833 -44.357426  0.426503  56.0     13\n",
       "3        -31.749357 -33.156342 -0.025245   3.0     11\n",
       "4         -9.920758 -10.442794  1.010120   0.0     13\n",
       "...             ...        ...       ...   ...    ...\n",
       "77969326  11.729522 -41.639257  4.304954  10.0      5\n",
       "77969327  -3.103068 -25.194310  3.304993  28.0      5\n",
       "77969328   1.285335 -40.827049  4.721320  48.0      5\n",
       "77969329  11.745106 -41.608195  4.299503   9.0      5\n",
       "77969330  -3.087375 -25.185128  3.299389  31.0      5\n",
       "\n",
       "[77969331 rows x 5 columns]>"
      ]
     },
     "execution_count": 5,
     "metadata": {},
     "output_type": "execute_result"
    }
   ],
   "source": [
    "cleaned_df = raw_df.copy()\n",
    "\n",
    "# delete 't' 'd' column.\n",
    "cleaned_df.pop('t')\n",
    "cleaned_df.pop('d')\n",
    "\n",
    "cleaned_df.head"
   ]
  },
  {
   "cell_type": "code",
   "execution_count": 6,
   "id": "08d7c1fb-8076-44e9-9b80-52c9148edc69",
   "metadata": {
    "tags": []
   },
   "outputs": [
    {
     "name": "stdout",
     "output_type": "stream",
     "text": [
      "Training labels shape: (49900371,)\n",
      "Validation labels shape: (12475093,)\n",
      "Test labels shape: (15593867,)\n",
      "Training features shape: (49900371, 4)\n",
      "Validation features shape: (12475093, 4)\n",
      "Test features shape: (15593867, 4)\n"
     ]
    }
   ],
   "source": [
    "train_df, test_df = train_test_split(cleaned_df, test_size=0.2)\n",
    "train_df, val_df = train_test_split(train_df, test_size=0.2)\n",
    "\n",
    "train_labels = np.array(train_df.pop('class'))\n",
    "bool_train_labels = train_labels != 0\n",
    "val_labels = np.array(val_df.pop('class'))\n",
    "test_labels = np.array(test_df.pop('class'))\n",
    "\n",
    "train_features = np.array(train_df)\n",
    "val_features = np.array(val_df)\n",
    "test_features = np.array(test_df)\n",
    "\n",
    "# scaler = StandardScaler()\n",
    "# train_features = scaler.fit_transform(train_features)\n",
    "\n",
    "# val_features = scaler.transform(val_features)\n",
    "# test_features = scaler.transform(test_features)\n",
    "\n",
    "print('Training labels shape:', train_labels.shape)\n",
    "print('Validation labels shape:', val_labels.shape)\n",
    "print('Test labels shape:', test_labels.shape)\n",
    "\n",
    "print('Training features shape:', train_features.shape)\n",
    "print('Validation features shape:', val_features.shape)\n",
    "print('Test features shape:', test_features.shape)"
   ]
  },
  {
   "cell_type": "code",
   "execution_count": 7,
   "id": "7558bfbd",
   "metadata": {
    "tags": []
   },
   "outputs": [
    {
     "name": "stdout",
     "output_type": "stream",
     "text": [
      "Epoch 1/5\n",
      "1559387/1559387 [==============================] - 1454s 924us/step - loss: 0.9461 - accuracy: 0.6785\n",
      "Epoch 2/5\n",
      "1559387/1559387 [==============================] - 1434s 920us/step - loss: 1.0118 - accuracy: 0.6678\n",
      "Epoch 3/5\n",
      "1559387/1559387 [==============================] - 1436s 921us/step - loss: 1.0613 - accuracy: 0.6579\n",
      "Epoch 4/5\n",
      "1559387/1559387 [==============================] - 1408s 903us/step - loss: 1.0602 - accuracy: 0.6639\n",
      "Epoch 5/5\n",
      "1559387/1559387 [==============================] - 1434s 919us/step - loss: 1.0332 - accuracy: 0.6757\n"
     ]
    },
    {
     "data": {
      "text/plain": [
       "<keras.callbacks.History at 0x27568a5b0a0>"
      ]
     },
     "execution_count": 7,
     "metadata": {},
     "output_type": "execute_result"
    }
   ],
   "source": [
    "def baseline_model():\n",
    "    model = Sequential()\n",
    "\n",
    "    model.add(Dense(512, activation='relu',  input_shape=(train_features.shape[-1],)))\n",
    "   \n",
    "    model.add(Dense(256, activation='relu'))\n",
    "    \n",
    "    model.add(Dense(128, activation='relu'))\n",
    "    \n",
    "#     model.add(Dense(64, activation='relu'))\n",
    "#     model.add(Dense(1, activation='sigmoid'))\n",
    "    \n",
    "    model.add(Dense(43, activation='softmax'))\n",
    "    \n",
    "    len(model.weights)\n",
    "    \n",
    "#     model.compile(loss='binary_crossentropy', optimizer='rmsprop', metrics=['accuracy'])\n",
    "#     model.compile(loss='binary_crossentropy', optimizer='sgd', metrics=['accuracy'])\n",
    "\n",
    "    model.compile(loss='sparse_categorical_crossentropy', optimizer='adam', metrics=['accuracy'])\n",
    "    \n",
    "    return model\n",
    "\n",
    "model = baseline_model()\n",
    "\n",
    "model.fit(train_features, train_labels, epochs=5, batch_size=32, verbose=1,)"
   ]
  },
  {
   "cell_type": "code",
   "execution_count": 8,
   "id": "1ff1e88f",
   "metadata": {
    "tags": []
   },
   "outputs": [
    {
     "name": "stdout",
     "output_type": "stream",
     "text": [
      "487309/487309 [==============================] - 263s 539us/step - loss: 1.0547 - accuracy: 0.6869\n",
      "Test accuracy: 0.6869186162948608\n"
     ]
    }
   ],
   "source": [
    "test_loss, test_acc = model.evaluate(test_features, test_labels)\n",
    "print('Test accuracy:', test_acc)"
   ]
  },
  {
   "cell_type": "code",
   "execution_count": 9,
   "id": "a30745ff-ca89-4818-94b8-5200a431ecb7",
   "metadata": {},
   "outputs": [
    {
     "name": "stdout",
     "output_type": "stream",
     "text": [
      "Lidarpredict shape: (169171, 4)\n",
      "[[-58.4571991  -61.26926804   2.88101435  39.        ]\n",
      " [-71.5721817  -74.84031677   1.27918303   9.        ]\n",
      " [-42.44283295 -44.35742569   0.42650267  56.        ]\n",
      " ...\n",
      " [ 41.09126505  11.59871921   5.40852274  20.        ]\n",
      " [ 34.50563012  24.58449691   5.67867862   3.        ]\n",
      " [ 41.03754546  11.6692476    5.39646771  20.        ]]\n"
     ]
    }
   ],
   "source": [
    "Lidar_test =[]\n",
    "Lidar_test = pd.DataFrame(Lidar_test)\n",
    "\n",
    "with open(r'F:\\Autonomous Driving\\Lidardataset\\001\\lidar\\00.pkl', 'rb') as f:\n",
    "     Lidar_test = pickle.load(f)\n",
    "\n",
    "Lidar_test.pop('t')\n",
    "Lidar_test.pop('d')\n",
    "\n",
    "Lidar_test = np.array(Lidar_test)\n",
    "\n",
    "# scaler = StandardScaler()\n",
    "# Lidar_test = scaler.fit_transform(Lidar_test)\n",
    "\n",
    "print('Lidarpredict shape:', Lidar_test.shape)\n",
    "print(Lidar_test)\n"
   ]
  },
  {
   "cell_type": "code",
   "execution_count": 10,
   "id": "fcf1912a-2ae7-49f5-8e64-f79ca53d24d4",
   "metadata": {},
   "outputs": [
    {
     "name": "stderr",
     "output_type": "stream",
     "text": [
      "f:\\anaconda3\\lib\\site-packages\\keras\\engine\\sequential.py:450: UserWarning: `model.predict_classes()` is deprecated and will be removed after 2021-01-01. Please use instead:* `np.argmax(model.predict(x), axis=-1)`,   if your model does multi-class classification   (e.g. if it uses a `softmax` last-layer activation).* `(model.predict(x) > 0.5).astype(\"int32\")`,   if your model does binary classification   (e.g. if it uses a `sigmoid` last-layer activation).\n",
      "  warnings.warn('`model.predict_classes()` is deprecated and '\n"
     ]
    },
    {
     "name": "stdout",
     "output_type": "stream",
     "text": [
      "[41 41 41 ...  5 41  5]\n",
      "(169171,)\n"
     ]
    }
   ],
   "source": [
    "prediction = model.predict_classes(Lidar_test)\n",
    "print(prediction)\n",
    "print(prediction.shape)"
   ]
  },
  {
   "cell_type": "code",
   "execution_count": 11,
   "id": "5f1efb20-5cfc-4f59-8034-cda696b3c994",
   "metadata": {},
   "outputs": [],
   "source": [
    "prediction = pd.DataFrame(prediction)\n",
    "\n",
    "prediction.to_csv(r'C:\\Users\\12200\\Desktop\\22.csv')"
   ]
  },
  {
   "cell_type": "code",
   "execution_count": 12,
   "id": "0cca2151-86e7-42b3-b586-7e5da499dddd",
   "metadata": {},
   "outputs": [
    {
     "name": "stdout",
     "output_type": "stream",
     "text": [
      "labels  shape: (169171, 1)\n"
     ]
    }
   ],
   "source": [
    "label_test =[]\n",
    "label_test= pd.DataFrame(label_test)\n",
    "\n",
    "with open(r'F:\\Autonomous Driving\\Lidardataset\\001\\annotations\\semseg\\00.pkl', 'rb') as f:\n",
    "    label_test = pickle.load(f)\n",
    "    \n",
    "label_test.to_csv(r'C:\\Users\\12200\\Desktop\\11.csv')\n",
    "    \n",
    "label_test  = np.array(label_test )\n",
    "print('labels  shape:', label_test .shape)"
   ]
  },
  {
   "cell_type": "code",
   "execution_count": 17,
   "id": "9c30cf55-2ada-4b05-abda-26278e8805cd",
   "metadata": {},
   "outputs": [
    {
     "name": "stdout",
     "output_type": "stream",
     "text": [
      "5287/5287 [==============================] - 4s 759us/step - loss: 1.1497 - accuracy: 0.6460\n",
      "Test accuracy: 0.6459854245185852\n"
     ]
    }
   ],
   "source": [
    "test_loss, test_acc = model.evaluate(Lidar_test, label_test)\n",
    "print('Test accuracy:', test_acc)"
   ]
  },
  {
   "cell_type": "code",
   "execution_count": 18,
   "id": "1f9b668d-1701-4af5-90bc-79177d0648aa",
   "metadata": {},
   "outputs": [
    {
     "name": "stdout",
     "output_type": "stream",
     "text": [
      "The Test Accuracy is 0.6459854230334986\n"
     ]
    }
   ],
   "source": [
    "from sklearn.metrics import plot_confusion_matrix, make_scorer, accuracy_score\n",
    "prediction = np.array(prediction)\n",
    "ResultAccuracy = accuracy_score(prediction, label_test)\n",
    "print(\"The Test Accuracy is\" , ResultAccuracy)"
   ]
  },
  {
   "cell_type": "code",
   "execution_count": 19,
   "id": "50936c09-6b58-40bc-b6b1-066b6bb71bd1",
   "metadata": {},
   "outputs": [
    {
     "name": "stdout",
     "output_type": "stream",
     "text": [
      "INFO:tensorflow:Assets written to: F:\\Autonomous Driving\\Lidardataset_trainning\\trained_modelall\\assets\n"
     ]
    }
   ],
   "source": [
    "# Calling `save('my_model')` creates a SavedModel folder `my_model`.\n",
    "model.save(r'F:\\Autonomous Driving\\Lidardataset_trainning\\trained_modelall')"
   ]
  },
  {
   "cell_type": "code",
   "execution_count": null,
   "id": "2067b6a2-2114-464c-a886-4d70c22423c2",
   "metadata": {},
   "outputs": [],
   "source": []
  }
 ],
 "metadata": {
  "kernelspec": {
   "display_name": "Python 3",
   "language": "python",
   "name": "python3"
  },
  "language_info": {
   "codemirror_mode": {
    "name": "ipython",
    "version": 3
   },
   "file_extension": ".py",
   "mimetype": "text/x-python",
   "name": "python",
   "nbconvert_exporter": "python",
   "pygments_lexer": "ipython3",
   "version": "3.8.8"
  }
 },
 "nbformat": 4,
 "nbformat_minor": 5
}
