{
 "cells": [
  {
   "cell_type": "code",
   "execution_count": 2,
   "id": "2e4cfc6c-0afb-4475-aba8-e18a1eddd59d",
   "metadata": {},
   "outputs": [],
   "source": [
    "import numpy as np\n",
    "import pandas as pd\n",
    "import io\n",
    "import matplotlib as mpl\n",
    "import matplotlib.pyplot as plt\n",
    "import seaborn as sns\n",
    "\n",
    "import tensorflow as tf\n",
    "from tensorflow import keras\n",
    "\n",
    "from tensorflow import feature_column\n",
    "from tensorflow.keras import layers\n",
    "from sklearn.model_selection import train_test_split\n",
    "from sklearn.preprocessing import StandardScaler\n",
    "from keras.models import Sequential\n",
    "from keras.layers import Dense"
   ]
  },
  {
   "cell_type": "code",
   "execution_count": 3,
   "id": "c5e7e0c3-7865-4a5c-87e1-338290406db0",
   "metadata": {
    "jupyter": {
     "source_hidden": true
    },
    "tags": []
   },
   "outputs": [],
   "source": [
    "# print(\"Num GPU available:\", len(tf.config.experimental.list_physical_devices('GPU')))\n",
    "# tf.test.is_built_with_cuda()"
   ]
  },
  {
   "cell_type": "code",
   "execution_count": 4,
   "id": "83a1f1e5-578b-415e-b7bc-1e1927997620",
   "metadata": {
    "tags": []
   },
   "outputs": [
    {
     "name": "stdout",
     "output_type": "stream",
     "text": [
      "   class\n",
      "0      5\n",
      "1     42\n",
      "2     13\n",
      "3     11\n",
      "4     13\n",
      "            count       mean        std  min  25%  50%   75%   max\n",
      "class  13718418.0  17.739215  15.389147  0.0  6.0  7.0  41.0  42.0\n"
     ]
    }
   ],
   "source": [
    "import os\n",
    "from os import listdir\n",
    "import pickle\n",
    "\n",
    "labels =[]\n",
    "labels = pd.DataFrame(labels)\n",
    "\n",
    "for i in range (0,1):\n",
    "    if i == 0:\n",
    "        filepath=r'F:\\Autonomous Driving\\Lidardataset\\001\\annotations\\semseg/'\n",
    "    if i == 1: \n",
    "        filepath=r'F:\\Autonomous Driving\\Lidardataset\\002\\annotations\\semseg/'\n",
    "    if i == 2:\n",
    "        filepath=r'F:\\Autonomous Driving\\Lidardataset\\003\\annotations\\semseg/'\n",
    "    if i == 3:\n",
    "        filepath=r'F:\\Autonomous Driving\\Lidardataset\\005\\annotations\\semseg/'\n",
    "    if i == 4:\n",
    "        filepath=r'F:\\Autonomous Driving\\Lidardataset\\011\\annotations\\semseg/'\n",
    "    if i == 5:\n",
    "        filepath=r'F:\\Autonomous Driving\\Lidardataset\\013\\annotations\\semseg/'\n",
    "    if i == 6:\n",
    "        filepath=r'F:\\Autonomous Driving\\Lidardataset\\015\\annotations\\semseg/'\n",
    "    if i == 7:\n",
    "        filepath=r'F:\\Autonomous Driving\\Lidardataset\\016\\annotations\\semseg/'\n",
    "    if i == 8:\n",
    "        filepath=r'F:\\Autonomous Driving\\Lidardataset\\017\\annotations\\semseg/'\n",
    "    if i == 9:\n",
    "        filepath=r'F:\\Autonomous Driving\\Lidardataset\\019\\annotations\\semseg/'\n",
    "    if i == 10:\n",
    "        filepath=r'F:\\Autonomous Driving\\Lidardataset\\021\\annotations\\semseg/'\n",
    "    if i == 11:\n",
    "        filepath=r'F:\\Autonomous Driving\\Lidardataset\\023\\annotations\\semseg/'\n",
    "    if i == 12:\n",
    "        filepath=r'F:\\Autonomous Driving\\Lidardataset\\024\\annotations\\semseg/'\n",
    "    if i == 13:\n",
    "        filepath=r'F:\\Autonomous Driving\\Lidardataset\\027\\annotations\\semseg/'\n",
    "    if i == 14:\n",
    "        filepath=r'F:\\Autonomous Driving\\Lidardataset\\028\\annotations\\semseg/'\n",
    "    if i == 15:\n",
    "        filepath=r'F:\\Autonomous Driving\\Lidardataset\\029\\annotations\\semseg/'\n",
    "    if i == 16:\n",
    "        filepath=r'F:\\Autonomous Driving\\Lidardataset\\030\\annotations\\semseg/'\n",
    "    if i == 17:\n",
    "        filepath=r'F:\\Autonomous Driving\\Lidardataset\\032\\annotations\\semseg/'\n",
    "    if i == 18:\n",
    "        filepath=r'F:\\Autonomous Driving\\Lidardataset\\033\\annotations\\semseg/'\n",
    "    if i == 19:\n",
    "        filepath=r'F:\\Autonomous Driving\\Lidardataset\\034\\annotations\\semseg/'\n",
    "    if i == 20:\n",
    "        filepath=r'F:\\Autonomous Driving\\Lidardataset\\035\\annotations\\semseg/'\n",
    "    if i == 21:\n",
    "        filepath=r'F:\\Autonomous Driving\\Lidardataset\\037\\annotations\\semseg/'\n",
    "    if i == 22:\n",
    "        filepath=r'F:\\Autonomous Driving\\Lidardataset\\038\\annotations\\semseg/'\n",
    "    if i == 23:\n",
    "        filepath=r'F:\\Autonomous Driving\\Lidardataset\\039\\annotations\\semseg/'\n",
    "    if i == 24:\n",
    "        filepath=r'F:\\Autonomous Driving\\Lidardataset\\040\\annotations\\semseg/'\n",
    "    if i == 25:\n",
    "        filepath=r'F:\\Autonomous Driving\\Lidardataset\\041\\annotations\\semseg/'\n",
    "    if i == 26:\n",
    "        filepath=r'F:\\Autonomous Driving\\Lidardataset\\042\\annotations\\semseg/'\n",
    "    if i == 27:\n",
    "        filepath=r'F:\\Autonomous Driving\\Lidardataset\\043\\annotations\\semseg/'\n",
    "    if i == 28:\n",
    "        filepath=r'F:\\Autonomous Driving\\Lidardataset\\044\\annotations\\semseg/'\n",
    "    if i == 29:\n",
    "        filepath=r'F:\\Autonomous Driving\\Lidardataset\\046\\annotations\\semseg/'\n",
    "    \n",
    "    filename_list=listdir(filepath)\n",
    "\n",
    "    for filename in filename_list:\n",
    "        if filename[-3:]=='pkl':#read file with end character with'pkl'\n",
    "            label_path = os.path.join(filepath, filename[:])\n",
    "            with open(label_path, 'rb') as f:\n",
    "                label = pickle.load(f)\n",
    "                label = pd.DataFrame(label)\n",
    "                labels = pd.concat([labels, label], ignore_index=True)\n",
    "\n",
    "print(labels.head())\n",
    "print(labels.describe().transpose())"
   ]
  },
  {
   "cell_type": "code",
   "execution_count": 5,
   "id": "7526e35a-6031-4bb1-84e1-87eeeb492e8c",
   "metadata": {
    "jupyter": {
     "source_hidden": true
    },
    "tags": []
   },
   "outputs": [],
   "source": [
    "# import os\n",
    "# from os import listdir\n",
    "# import pickle\n",
    "\n",
    "# labels =[]\n",
    "# labels = pd.DataFrame(labels)\n",
    "\n",
    "\n",
    "\n",
    "# filepath=r'F:\\Autonomous Driving\\Lidardataset\\001\\annotations\\semseg/'\n",
    "# filename_list=listdir(filepath)\n",
    "\n",
    "# for filename in filename_list:\n",
    "#     if filename[-3:]=='pkl':#read file with end character with'pkl'\n",
    "#         label_path = os.path.join(filepath, filename[:])\n",
    "#         with open(label_path, 'rb') as f:\n",
    "#             label = pickle.load(f)\n",
    "#             label = pd.DataFrame(label)\n",
    "#             labels = pd.concat([labels, label], ignore_index=True)\n",
    "            \n",
    "# # print(labels.head())\n",
    "# # print(labels.describe().transpose())"
   ]
  },
  {
   "cell_type": "code",
   "execution_count": 6,
   "id": "02e22b85-a277-4c1e-afb0-d9c8b2de1189",
   "metadata": {},
   "outputs": [
    {
     "name": "stdout",
     "output_type": "stream",
     "text": [
      "           x          y         z     i             t  d\n",
      "0 -58.457199 -61.269268  2.881014  39.0  1.557540e+09  0\n",
      "1 -71.572182 -74.840317  1.279183   9.0  1.557540e+09  0\n",
      "2 -42.442833 -44.357426  0.426503  56.0  1.557540e+09  0\n",
      "3 -31.749357 -33.156342 -0.025245   3.0  1.557540e+09  0\n",
      "4  -9.920758 -10.442794  1.010120   0.0  1.557540e+09  0\n",
      "        count          mean        std           min           25%  \\\n",
      "x  13718418.0  3.105862e+01  25.381477 -1.467075e+02  1.806536e+01   \n",
      "y  13718418.0  3.581701e+01  29.113447 -1.367635e+02  1.874370e+01   \n",
      "z  13718418.0  1.087192e+00   1.745362 -1.160829e+01 -2.772589e-01   \n",
      "i  13718418.0  2.041551e+01  26.105448  0.000000e+00  7.000000e+00   \n",
      "t  13718418.0  1.557540e+09   2.294318  1.557540e+09  1.557540e+09   \n",
      "d  13718418.0  3.729114e-01   0.483579  0.000000e+00  0.000000e+00   \n",
      "\n",
      "            50%           75%           max  \n",
      "x  3.317619e+01  4.678666e+01  2.683879e+02  \n",
      "y  3.584022e+01  5.386716e+01  2.926067e+02  \n",
      "z  6.853606e-01  1.785032e+00  3.428179e+01  \n",
      "i  1.800000e+01  2.800000e+01  2.550000e+02  \n",
      "t  1.557540e+09  1.557540e+09  1.557540e+09  \n",
      "d  0.000000e+00  1.000000e+00  1.000000e+00  \n"
     ]
    }
   ],
   "source": [
    "Lidardataset =[]\n",
    "Lidardataset = pd.DataFrame(Lidardataset)\n",
    "\n",
    "for i in range (0,1):\n",
    "    if i == 0:\n",
    "        filepath=r'F:\\Autonomous Driving\\Lidardataset\\001\\lidar'\n",
    "    if i == 1: \n",
    "        filepath=r'F:\\Autonomous Driving\\Lidardataset\\002\\lidar'\n",
    "    if i == 2:\n",
    "        filepath=r'F:\\Autonomous Driving\\Lidardataset\\003\\lidar'\n",
    "    if i == 3:\n",
    "        filepath=r'F:\\Autonomous Driving\\Lidardataset\\005\\lidar'\n",
    "    if i == 4:\n",
    "        filepath=r'F:\\Autonomous Driving\\Lidardataset\\011\\lidar'\n",
    "    if i == 5:\n",
    "        filepath=r'F:\\Autonomous Driving\\Lidardataset\\013\\lidar'\n",
    "    if i == 6:\n",
    "        filepath=r'F:\\Autonomous Driving\\Lidardataset\\015\\lidar'\n",
    "    if i == 7:\n",
    "        filepath=r'F:\\Autonomous Driving\\Lidardataset\\016\\lidar'\n",
    "    if i == 8:\n",
    "        filepath=r'F:\\Autonomous Driving\\Lidardataset\\017\\lidar'\n",
    "    if i == 9:\n",
    "        filepath=r'F:\\Autonomous Driving\\Lidardataset\\019\\lidar'\n",
    "    if i == 10:\n",
    "        filepath=r'F:\\Autonomous Driving\\Lidardataset\\021\\lidar'\n",
    "    if i == 11:\n",
    "        filepath=r'F:\\Autonomous Driving\\Lidardataset\\023\\lidar'\n",
    "    if i == 12:\n",
    "        filepath=r'F:\\Autonomous Driving\\Lidardataset\\024\\lidar'\n",
    "    if i == 13:\n",
    "        filepath=r'F:\\Autonomous Driving\\Lidardataset\\027\\lidar'\n",
    "    if i == 14:\n",
    "        filepath=r'F:\\Autonomous Driving\\Lidardataset\\028\\lidar'\n",
    "    if i == 15:\n",
    "        filepath=r'F:\\Autonomous Driving\\Lidardataset\\029\\lidar'\n",
    "    if i == 16:\n",
    "        filepath=r'F:\\Autonomous Driving\\Lidardataset\\030\\lidar'\n",
    "    if i == 17:\n",
    "        filepath=r'F:\\Autonomous Driving\\Lidardataset\\032\\lidar'\n",
    "    if i == 18:\n",
    "        filepath=r'F:\\Autonomous Driving\\Lidardataset\\033\\lidar'\n",
    "    if i == 19:\n",
    "        filepath=r'F:\\Autonomous Driving\\Lidardataset\\034\\lidar'\n",
    "    if i == 20:\n",
    "        filepath=r'F:\\Autonomous Driving\\Lidardataset\\035\\lidar'\n",
    "    if i == 21:\n",
    "        filepath=r'F:\\Autonomous Driving\\Lidardataset\\037\\lidar'\n",
    "    if i == 22:\n",
    "        filepath=r'F:\\Autonomous Driving\\Lidardataset\\038\\lidar'\n",
    "    if i == 23:\n",
    "        filepath=r'F:\\Autonomous Driving\\Lidardataset\\039\\lidar'\n",
    "    if i == 24:\n",
    "        filepath=r'F:\\Autonomous Driving\\Lidardataset\\040\\lidar'\n",
    "    if i == 25:\n",
    "        filepath=r'F:\\Autonomous Driving\\Lidardataset\\041\\lidar'\n",
    "    if i == 26:\n",
    "        filepath=r'F:\\Autonomous Driving\\Lidardataset\\042\\lidar'\n",
    "    if i == 27:\n",
    "        filepath=r'F:\\Autonomous Driving\\Lidardataset\\043\\lidar'\n",
    "    if i == 28:\n",
    "        filepath=r'F:\\Autonomous Driving\\Lidardataset\\044\\lidar'\n",
    "    if i == 29:\n",
    "        filepath=r'F:\\Autonomous Driving\\Lidardataset\\046\\lidar'\n",
    "\n",
    "    for filename in filename_list:\n",
    "        if filename[-3:]=='pkl':#read file with end character with'pkl'\n",
    "            lidar_path = os.path.join(filepath, filename[:])\n",
    "            with open(lidar_path, 'rb') as f:\n",
    "                lidardata = pickle.load(f)\n",
    "                lidardata = pd.DataFrame(lidardata)\n",
    "                Lidardataset = pd.concat([Lidardataset, lidardata], ignore_index=True)\n",
    "            \n",
    "print(Lidardataset.head())\n",
    "print(Lidardataset.describe().transpose())"
   ]
  },
  {
   "cell_type": "code",
   "execution_count": null,
   "id": "01f01ca4-087f-4513-bdcb-0eb1e1661bb1",
   "metadata": {
    "jupyter": {
     "source_hidden": true
    },
    "tags": []
   },
   "outputs": [],
   "source": [
    "# filepath=r'F:\\Autonomous Driving\\Lidardataset\\001\\lidar'\n",
    "# filename_list=listdir(filepath)\n",
    "\n",
    "# Lidardataset =[]\n",
    "# Lidardataset = pd.DataFrame(Lidardataset)\n",
    "\n",
    "# for filename in filename_list:\n",
    "#     if filename[-3:]=='pkl':#read file with end character with'pkl'\n",
    "#         lidar_path = os.path.join(filepath, filename[:])\n",
    "#         with open(lidar_path, 'rb') as f:\n",
    "#             lidardata = pickle.load(f)\n",
    "#             lidardata = pd.DataFrame(lidardata)\n",
    "#             Lidardataset = pd.concat([Lidardataset, lidardata], ignore_index=True)\n",
    "            \n",
    "# # print(Lidardataset.head())\n",
    "# # print(Lidardataset.describe().transpose())"
   ]
  },
  {
   "cell_type": "code",
   "execution_count": 7,
   "id": "fa3fb913-d50d-4f13-99e0-b16e3c0a39cc",
   "metadata": {
    "tags": []
   },
   "outputs": [
    {
     "name": "stdout",
     "output_type": "stream",
     "text": [
      "           x          y         z     i             t  d  class\n",
      "0 -58.457199 -61.269268  2.881014  39.0  1.557540e+09  0      5\n",
      "1 -71.572182 -74.840317  1.279183   9.0  1.557540e+09  0     42\n",
      "2 -42.442833 -44.357426  0.426503  56.0  1.557540e+09  0     13\n",
      "3 -31.749357 -33.156342 -0.025245   3.0  1.557540e+09  0     11\n",
      "4  -9.920758 -10.442794  1.010120   0.0  1.557540e+09  0     13\n",
      "            count          mean        std           min           25%  \\\n",
      "x      13718418.0  3.105862e+01  25.381477 -1.467075e+02  1.806536e+01   \n",
      "y      13718418.0  3.581701e+01  29.113447 -1.367635e+02  1.874370e+01   \n",
      "z      13718418.0  1.087192e+00   1.745362 -1.160829e+01 -2.772589e-01   \n",
      "i      13718418.0  2.041551e+01  26.105448  0.000000e+00  7.000000e+00   \n",
      "t      13718418.0  1.557540e+09   2.294318  1.557540e+09  1.557540e+09   \n",
      "d      13718418.0  3.729114e-01   0.483579  0.000000e+00  0.000000e+00   \n",
      "class  13718418.0  1.773922e+01  15.389147  0.000000e+00  6.000000e+00   \n",
      "\n",
      "                50%           75%           max  \n",
      "x      3.317619e+01  4.678666e+01  2.683879e+02  \n",
      "y      3.584022e+01  5.386716e+01  2.926067e+02  \n",
      "z      6.853606e-01  1.785032e+00  3.428179e+01  \n",
      "i      1.800000e+01  2.800000e+01  2.550000e+02  \n",
      "t      1.557540e+09  1.557540e+09  1.557540e+09  \n",
      "d      0.000000e+00  1.000000e+00  1.000000e+00  \n",
      "class  7.000000e+00  4.100000e+01  4.200000e+01  \n"
     ]
    }
   ],
   "source": [
    "raw_df =[]\n",
    "raw_df = pd.DataFrame(raw_df)\n",
    "raw_df = Lidardataset\n",
    "raw_df[\"class\"] = labels[\"class\"]\n",
    "raw_df.head\n",
    "\n",
    "print(raw_df.head())\n",
    "print(raw_df.describe().transpose())"
   ]
  },
  {
   "cell_type": "code",
   "execution_count": 8,
   "id": "6df401c5-fef8-408f-80f9-7339929bd9da",
   "metadata": {
    "tags": []
   },
   "outputs": [
    {
     "data": {
      "text/plain": [
       "<bound method NDFrame.head of                   x          y         z     i  class\n",
       "0        -58.457199 -61.269268  2.881014  39.0      5\n",
       "1        -71.572182 -74.840317  1.279183   9.0     42\n",
       "2        -42.442833 -44.357426  0.426503  56.0     13\n",
       "3        -31.749357 -33.156342 -0.025245   3.0     11\n",
       "4         -9.920758 -10.442794  1.010120   0.0     13\n",
       "...             ...        ...       ...   ...    ...\n",
       "13718413  67.319610  65.274919  2.243670  37.0      5\n",
       "13718414  79.774091  79.340226  3.934693  24.0      5\n",
       "13718415  67.338419  65.299087  2.243786  36.0      5\n",
       "13718416  78.573443  78.483859  3.799216  26.0      5\n",
       "13718417  67.337400  65.319896  2.241889  32.0      5\n",
       "\n",
       "[13718418 rows x 5 columns]>"
      ]
     },
     "execution_count": 8,
     "metadata": {},
     "output_type": "execute_result"
    }
   ],
   "source": [
    "cleaned_df = raw_df.copy()\n",
    "\n",
    "# delete 't' 'd' column.\n",
    "cleaned_df.pop('t')\n",
    "cleaned_df.pop('d')\n",
    "\n",
    "cleaned_df.head"
   ]
  },
  {
   "cell_type": "code",
   "execution_count": 9,
   "id": "08d7c1fb-8076-44e9-9b80-52c9148edc69",
   "metadata": {
    "tags": []
   },
   "outputs": [
    {
     "name": "stdout",
     "output_type": "stream",
     "text": [
      "Training labels shape: (8779787,)\n",
      "Validation labels shape: (2194947,)\n",
      "Test labels shape: (2743684,)\n",
      "Training features shape: (8779787, 4)\n",
      "Validation features shape: (2194947, 4)\n",
      "Test features shape: (2743684, 4)\n"
     ]
    }
   ],
   "source": [
    "train_df, test_df = train_test_split(cleaned_df, test_size=0.2)\n",
    "train_df, val_df = train_test_split(train_df, test_size=0.2)\n",
    "\n",
    "train_labels = np.array(train_df.pop('class'))\n",
    "bool_train_labels = train_labels != 0\n",
    "val_labels = np.array(val_df.pop('class'))\n",
    "test_labels = np.array(test_df.pop('class'))\n",
    "\n",
    "train_features = np.array(train_df)\n",
    "val_features = np.array(val_df)\n",
    "test_features = np.array(test_df)\n",
    "\n",
    "# scaler = StandardScaler()\n",
    "# train_features = scaler.fit_transform(train_features)\n",
    "\n",
    "# val_features = scaler.transform(val_features)\n",
    "# test_features = scaler.transform(test_features)\n",
    "\n",
    "print('Training labels shape:', train_labels.shape)\n",
    "print('Validation labels shape:', val_labels.shape)\n",
    "print('Test labels shape:', test_labels.shape)\n",
    "\n",
    "print('Training features shape:', train_features.shape)\n",
    "print('Validation features shape:', val_features.shape)\n",
    "print('Test features shape:', test_features.shape)"
   ]
  },
  {
   "cell_type": "code",
   "execution_count": 10,
   "id": "7558bfbd",
   "metadata": {
    "tags": []
   },
   "outputs": [
    {
     "name": "stdout",
     "output_type": "stream",
     "text": [
      "Epoch 1/5\n",
      "274369/274369 [==============================] - 292s 1ms/step - loss: 0.2362 - accuracy: 0.9222\n",
      "Epoch 2/5\n",
      "274369/274369 [==============================] - 294s 1ms/step - loss: 0.1398 - accuracy: 0.9539\n",
      "Epoch 3/5\n",
      "274369/274369 [==============================] - 295s 1ms/step - loss: 0.1422 - accuracy: 0.9545\n",
      "Epoch 4/5\n",
      "274369/274369 [==============================] - 282s 1ms/step - loss: 0.1546 - accuracy: 0.9518\n",
      "Epoch 5/5\n",
      "274369/274369 [==============================] - 283s 1ms/step - loss: 0.1677 - accuracy: 0.9485\n"
     ]
    },
    {
     "data": {
      "text/plain": [
       "<keras.callbacks.History at 0x1de48cb48e0>"
      ]
     },
     "execution_count": 10,
     "metadata": {},
     "output_type": "execute_result"
    }
   ],
   "source": [
    "def baseline_model():\n",
    "    model = Sequential()\n",
    "\n",
    "    model.add(Dense(512, activation='relu',  input_shape=(train_features.shape[-1],)))\n",
    "   \n",
    "    model.add(Dense(256, activation='relu'))\n",
    "    \n",
    "    model.add(Dense(128, activation='relu'))\n",
    "    \n",
    "#     model.add(Dense(64, activation='relu'))\n",
    "#     model.add(Dense(1, activation='sigmoid'))\n",
    "    \n",
    "    model.add(Dense(43, activation='softmax'))\n",
    "    \n",
    "    len(model.weights)\n",
    "    \n",
    "#     model.compile(loss='binary_crossentropy', optimizer='rmsprop', metrics=['accuracy'])\n",
    "#     model.compile(loss='binary_crossentropy', optimizer='sgd', metrics=['accuracy'])\n",
    "\n",
    "    model.compile(loss='sparse_categorical_crossentropy', optimizer='adam', metrics=['accuracy'])\n",
    "    \n",
    "    return model\n",
    "\n",
    "model = baseline_model()\n",
    "\n",
    "model.fit(train_features, train_labels, epochs=5, batch_size=32, verbose=1,)#27777"
   ]
  },
  {
   "cell_type": "code",
   "execution_count": 11,
   "id": "1ff1e88f",
   "metadata": {
    "tags": []
   },
   "outputs": [
    {
     "name": "stdout",
     "output_type": "stream",
     "text": [
      "85741/85741 [==============================] - 49s 572us/step - loss: 0.1762 - accuracy: 0.9445\n",
      "Test accuracy: 0.9445183873176575\n"
     ]
    }
   ],
   "source": [
    "test_loss, test_acc = model.evaluate(test_features, test_labels)\n",
    "print('Test accuracy:', test_acc)"
   ]
  },
  {
   "cell_type": "code",
   "execution_count": 12,
   "id": "a30745ff-ca89-4818-94b8-5200a431ecb7",
   "metadata": {},
   "outputs": [
    {
     "name": "stdout",
     "output_type": "stream",
     "text": [
      "Lidarpredict shape: (169171, 4)\n",
      "[[-58.4571991  -61.26926804   2.88101435  39.        ]\n",
      " [-71.5721817  -74.84031677   1.27918303   9.        ]\n",
      " [-42.44283295 -44.35742569   0.42650267  56.        ]\n",
      " ...\n",
      " [ 41.09126505  11.59871921   5.40852274  20.        ]\n",
      " [ 34.50563012  24.58449691   5.67867862   3.        ]\n",
      " [ 41.03754546  11.6692476    5.39646771  20.        ]]\n"
     ]
    }
   ],
   "source": [
    "Lidar_test =[]\n",
    "Lidar_test = pd.DataFrame(Lidar_test)\n",
    "\n",
    "with open(r'F:\\Autonomous Driving\\Lidardataset\\001\\lidar\\00.pkl', 'rb') as f:\n",
    "     Lidar_test = pickle.load(f)\n",
    "\n",
    "Lidar_test.pop('t')\n",
    "Lidar_test.pop('d')\n",
    "\n",
    "Lidar_test = np.array(Lidar_test)\n",
    "\n",
    "# scaler = StandardScaler()\n",
    "# Lidar_test = scaler.fit_transform(Lidar_test)\n",
    "\n",
    "print('Lidarpredict shape:', Lidar_test.shape)\n",
    "print(Lidar_test)\n"
   ]
  },
  {
   "cell_type": "code",
   "execution_count": 13,
   "id": "fcf1912a-2ae7-49f5-8e64-f79ca53d24d4",
   "metadata": {},
   "outputs": [
    {
     "name": "stderr",
     "output_type": "stream",
     "text": [
      "f:\\anaconda3\\lib\\site-packages\\keras\\engine\\sequential.py:450: UserWarning: `model.predict_classes()` is deprecated and will be removed after 2021-01-01. Please use instead:* `np.argmax(model.predict(x), axis=-1)`,   if your model does multi-class classification   (e.g. if it uses a `softmax` last-layer activation).* `(model.predict(x) > 0.5).astype(\"int32\")`,   if your model does binary classification   (e.g. if it uses a `sigmoid` last-layer activation).\n",
      "  warnings.warn('`model.predict_classes()` is deprecated and '\n"
     ]
    },
    {
     "name": "stdout",
     "output_type": "stream",
     "text": [
      "[ 5  5 42 ... 41 41 41]\n",
      "(169171,)\n"
     ]
    }
   ],
   "source": [
    "prediction = model.predict_classes(Lidar_test)\n",
    "print(prediction)\n",
    "print(prediction.shape)"
   ]
  },
  {
   "cell_type": "code",
   "execution_count": 14,
   "id": "5f1efb20-5cfc-4f59-8034-cda696b3c994",
   "metadata": {},
   "outputs": [],
   "source": [
    "prediction = pd.DataFrame(prediction)\n",
    "\n",
    "prediction.to_csv(r'C:\\Users\\12200\\Desktop\\22.csv')"
   ]
  },
  {
   "cell_type": "code",
   "execution_count": 15,
   "id": "0cca2151-86e7-42b3-b586-7e5da499dddd",
   "metadata": {},
   "outputs": [
    {
     "name": "stdout",
     "output_type": "stream",
     "text": [
      "labels  shape: (169171, 1)\n"
     ]
    }
   ],
   "source": [
    "label_test =[]\n",
    "label_test= pd.DataFrame(label_test)\n",
    "\n",
    "with open(r'F:\\Autonomous Driving\\Lidardataset\\001\\annotations\\semseg\\00.pkl', 'rb') as f:\n",
    "    label_test = pickle.load(f)\n",
    "    \n",
    "label_test.to_csv(r'C:\\Users\\12200\\Desktop\\11.csv')\n",
    "    \n",
    "label_test  = np.array(label_test )\n",
    "print('labels  shape:', label_test .shape)"
   ]
  },
  {
   "cell_type": "code",
   "execution_count": 16,
   "id": "9c30cf55-2ada-4b05-abda-26278e8805cd",
   "metadata": {},
   "outputs": [
    {
     "name": "stdout",
     "output_type": "stream",
     "text": [
      "5287/5287 [==============================] - 4s 806us/step - loss: 0.2045 - accuracy: 0.9297\n",
      "Test accuracy: 0.9296510815620422\n"
     ]
    }
   ],
   "source": [
    "test_loss, test_acc = model.evaluate(Lidar_test, label_test)\n",
    "print('Test accuracy:', test_acc)"
   ]
  },
  {
   "cell_type": "code",
   "execution_count": 17,
   "id": "1f9b668d-1701-4af5-90bc-79177d0648aa",
   "metadata": {},
   "outputs": [
    {
     "name": "stdout",
     "output_type": "stream",
     "text": [
      "The Test Accuracy is 0.9296510631254766\n"
     ]
    }
   ],
   "source": [
    "from sklearn.metrics import plot_confusion_matrix, make_scorer, accuracy_score\n",
    "prediction = np.array(prediction)\n",
    "ResultAccuracy = accuracy_score(prediction, label_test)\n",
    "print(\"The Test Accuracy is\" , ResultAccuracy)"
   ]
  },
  {
   "cell_type": "code",
   "execution_count": 18,
   "id": "50936c09-6b58-40bc-b6b1-066b6bb71bd1",
   "metadata": {},
   "outputs": [
    {
     "name": "stdout",
     "output_type": "stream",
     "text": [
      "INFO:tensorflow:Assets written to: F:\\Autonomous Driving\\Lidardataset\\trained_model\\assets\n"
     ]
    }
   ],
   "source": [
    "# Calling `save('my_model')` creates a SavedModel folder `my_model`.\n",
    "model.save(r'F:\\Autonomous Driving\\Lidardataset\\trained_model')"
   ]
  },
  {
   "cell_type": "code",
   "execution_count": null,
   "id": "2067b6a2-2114-464c-a886-4d70c22423c2",
   "metadata": {},
   "outputs": [],
   "source": []
  }
 ],
 "metadata": {
  "kernelspec": {
   "display_name": "Python 3",
   "language": "python",
   "name": "python3"
  },
  "language_info": {
   "codemirror_mode": {
    "name": "ipython",
    "version": 3
   },
   "file_extension": ".py",
   "mimetype": "text/x-python",
   "name": "python",
   "nbconvert_exporter": "python",
   "pygments_lexer": "ipython3",
   "version": "3.8.8"
  }
 },
 "nbformat": 4,
 "nbformat_minor": 5
}
